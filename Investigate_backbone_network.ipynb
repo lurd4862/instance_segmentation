{
 "cells": [
  {
   "cell_type": "markdown",
   "metadata": {},
   "source": [
    "## Intro\n",
    "\n",
    "## Backbone network\n",
    "\n",
    "The backbone network is the initial ecoding network for learned image features.\n",
    "\n",
    "For this model we are going to use the backbone network to create two main learning channels;  \n",
    "1. RCNN Head for predicting the class and bounding box within the image  \n",
    "2. MaskIoU head for predicting the mask with minimum IoU\n",
    "\n",
    "We can leverage existing encoding networks such as resnet do get a ood encoding network up and running fast.\n",
    "\n",
    "### ResNet\n",
    "\n"
   ]
  }
 ],
 "metadata": {
  "kernelspec": {
   "display_name": "pytorch",
   "language": "python",
   "name": "pytorch"
  },
  "language_info": {
   "codemirror_mode": {
    "name": "ipython",
    "version": 3
   },
   "file_extension": ".py",
   "mimetype": "text/x-python",
   "name": "python",
   "nbconvert_exporter": "python",
   "pygments_lexer": "ipython3",
   "version": "3.7.2"
  }
 },
 "nbformat": 4,
 "nbformat_minor": 2
}
